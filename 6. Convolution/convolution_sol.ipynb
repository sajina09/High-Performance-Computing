{
 "cells": [
  {
   "cell_type": "markdown",
   "metadata": {
    "id": "ACbcE3YKG-bM"
   },
   "source": [
    "# **Module 6 Convolution**"
   ]
  },
  {
   "cell_type": "code",
   "execution_count": null,
   "metadata": {
    "colab": {
     "base_uri": "https://localhost:8080/"
    },
    "executionInfo": {
     "elapsed": 23362,
     "status": "ok",
     "timestamp": 1739910172928,
     "user": {
      "displayName": "Anthony Smith",
      "userId": "02810491337117677461"
     },
     "user_tz": 300
    },
    "id": "lxyTNLOGp1IY",
    "outputId": "749bbe94-9c56-4d37-b1c4-d47a36321eeb"
   },
   "outputs": [],
   "source": [
    "#Mount Google Drive\n",
    "from google.colab import drive\n",
    "drive.mount('/content/drive')\n"
   ]
  },
  {
   "cell_type": "markdown",
   "metadata": {
    "id": "hY08JQdIBVgL"
   },
   "source": [
    "Environment Setup:  Verify the environment"
   ]
  },
  {
   "cell_type": "code",
   "execution_count": null,
   "metadata": {
    "colab": {
     "base_uri": "https://localhost:8080/"
    },
    "executionInfo": {
     "elapsed": 212,
     "status": "ok",
     "timestamp": 1739910181391,
     "user": {
      "displayName": "Anthony Smith",
      "userId": "02810491337117677461"
     },
     "user_tz": 300
    },
    "id": "36dzfscyIp6B",
    "outputId": "1c678025-bf8b-4b32-e4eb-2d8bbf876bbe"
   },
   "outputs": [],
   "source": [
    "!nvidia-smi\n",
    "!nvcc --version"
   ]
  },
  {
   "cell_type": "markdown",
   "metadata": {
    "id": "S0FmX0b4EdYZ"
   },
   "source": [
    "You must change directory to the path where the code for this lab is uploaded."
   ]
  },
  {
   "cell_type": "code",
   "execution_count": null,
   "metadata": {
    "colab": {
     "base_uri": "https://localhost:8080/"
    },
    "executionInfo": {
     "elapsed": 44,
     "status": "ok",
     "timestamp": 1739910248832,
     "user": {
      "displayName": "Anthony Smith",
      "userId": "02810491337117677461"
     },
     "user_tz": 300
    },
    "id": "guSU25zLEtyF",
    "outputId": "7e149d42-78ec-448f-abad-cf9edf7db08c"
   },
   "outputs": [],
   "source": [
    "%cd drive/MyDrive/SP25-HPC/Mod6-Convolution/"
   ]
  },
  {
   "cell_type": "markdown",
   "metadata": {
    "id": "93sg5wY5YhSv"
   },
   "source": [
    "Compile the CUDA Program\n",
    "Compile the program using nvcc (the NVIDIA CUDA compiler):"
   ]
  },
  {
   "cell_type": "code",
   "execution_count": null,
   "metadata": {
    "executionInfo": {
     "elapsed": 3225,
     "status": "ok",
     "timestamp": 1739912476687,
     "user": {
      "displayName": "Anthony Smith",
      "userId": "02810491337117677461"
     },
     "user_tz": 300
    },
    "id": "m3AogjiBYhSv"
   },
   "outputs": [],
   "source": [
    "!rm -rf *.o\n",
    "!nvcc -arch=sm_75 -o convolution kernel.cu support.cu main.cu\n"
   ]
  },
  {
   "cell_type": "markdown",
   "metadata": {
    "id": "vHc1-3WmYhSv"
   },
   "source": [
    "Run the CUDA Program\n",
    "Run the executable to run the convolution:\n"
   ]
  },
  {
   "cell_type": "code",
   "execution_count": null,
   "metadata": {
    "colab": {
     "base_uri": "https://localhost:8080/"
    },
    "executionInfo": {
     "elapsed": 6863,
     "status": "ok",
     "timestamp": 1739911973839,
     "user": {
      "displayName": "Anthony Smith",
      "userId": "02810491337117677461"
     },
     "user_tz": 300
    },
    "id": "Dpk8gpUYYhSw",
    "outputId": "e52195bc-1648-4e8d-f6f9-dce2031f67a2"
   },
   "outputs": [],
   "source": [
    "!./convolution\n"
   ]
  }
 ],
 "metadata": {
  "accelerator": "GPU",
  "colab": {
   "gpuType": "T4",
   "provenance": []
  },
  "kernelspec": {
   "display_name": "Python 3",
   "name": "python3"
  },
  "language_info": {
   "codemirror_mode": {
    "name": "ipython",
    "version": 3
   },
   "file_extension": ".py",
   "mimetype": "text/x-python",
   "name": "python",
   "nbconvert_exporter": "python",
   "pygments_lexer": "ipython3",
   "version": "3.12.4"
  }
 },
 "nbformat": 4,
 "nbformat_minor": 0
}
