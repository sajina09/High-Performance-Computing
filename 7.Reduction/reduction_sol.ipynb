{
 "cells": [
  {
   "cell_type": "markdown",
   "metadata": {
    "id": "ACbcE3YKG-bM"
   },
   "source": [
    "# **Module 7 Lab Reduction**"
   ]
  },
  {
   "cell_type": "code",
   "execution_count": null,
   "metadata": {
    "colab": {
     "base_uri": "https://localhost:8080/"
    },
    "executionInfo": {
     "elapsed": 16838,
     "status": "ok",
     "timestamp": 1743374704599,
     "user": {
      "displayName": "Anthony Smith",
      "userId": "02810491337117677461"
     },
     "user_tz": 240
    },
    "id": "lxyTNLOGp1IY",
    "outputId": "73500a12-9e35-4934-8062-f3037aad5f8f"
   },
   "outputs": [],
   "source": [
    "from google.colab import drive\n",
    "drive.mount('/content/drive')\n"
   ]
  },
  {
   "cell_type": "markdown",
   "metadata": {
    "id": "hY08JQdIBVgL"
   },
   "source": [
    "Environment Setup:  Verify the environment"
   ]
  },
  {
   "cell_type": "code",
   "execution_count": null,
   "metadata": {
    "id": "36dzfscyIp6B"
   },
   "outputs": [],
   "source": [
    "!nvidia-smi\n",
    "!nvcc --version"
   ]
  },
  {
   "cell_type": "markdown",
   "metadata": {
    "id": "S0FmX0b4EdYZ"
   },
   "source": [
    "You must change directory to the path where the code for this lab is uploaded."
   ]
  },
  {
   "cell_type": "code",
   "execution_count": null,
   "metadata": {
    "colab": {
     "base_uri": "https://localhost:8080/"
    },
    "executionInfo": {
     "elapsed": 41,
     "status": "ok",
     "timestamp": 1743374717333,
     "user": {
      "displayName": "Anthony Smith",
      "userId": "02810491337117677461"
     },
     "user_tz": 240
    },
    "id": "guSU25zLEtyF",
    "outputId": "a6b394ef-1eed-48be-83e6-a9f7f81b8293"
   },
   "outputs": [],
   "source": [
    "%cd drive/MyDrive/SP25-HPC/Mod7-Reduction_sol/"
   ]
  },
  {
   "cell_type": "markdown",
   "metadata": {
    "id": "93sg5wY5YhSv"
   },
   "source": [
    "Compile the CUDA Program\n",
    "Compile the program using nvcc (the NVIDIA CUDA compiler):"
   ]
  },
  {
   "cell_type": "code",
   "execution_count": null,
   "metadata": {
    "executionInfo": {
     "elapsed": 1311,
     "status": "ok",
     "timestamp": 1743374955015,
     "user": {
      "displayName": "Anthony Smith",
      "userId": "02810491337117677461"
     },
     "user_tz": 240
    },
    "id": "m3AogjiBYhSv"
   },
   "outputs": [],
   "source": [
    "!rm -rf *.o\n",
    "!nvcc -arch=sm_75 -o reduce main.cu\n"
   ]
  },
  {
   "cell_type": "code",
   "execution_count": null,
   "metadata": {
    "id": "8ZMKpv7_PiwV"
   },
   "outputs": [],
   "source": []
  },
  {
   "cell_type": "markdown",
   "metadata": {
    "id": "vHc1-3WmYhSv"
   },
   "source": [
    "Run the CUDA Program\n",
    "Run the executable to process the image:\n",
    "You should see an output message indicating that the blurred image was saved as output.png."
   ]
  },
  {
   "cell_type": "code",
   "execution_count": null,
   "metadata": {
    "colab": {
     "base_uri": "https://localhost:8080/"
    },
    "executionInfo": {
     "elapsed": 719,
     "status": "ok",
     "timestamp": 1743375090108,
     "user": {
      "displayName": "Anthony Smith",
      "userId": "02810491337117677461"
     },
     "user_tz": 240
    },
    "id": "Dpk8gpUYYhSw",
    "outputId": "3ba381b2-bed2-4cc7-bc05-748982b5b688"
   },
   "outputs": [],
   "source": [
    "!./reduce\n"
   ]
  }
 ],
 "metadata": {
  "accelerator": "GPU",
  "colab": {
   "gpuType": "T4",
   "provenance": []
  },
  "kernelspec": {
   "display_name": "Python 3",
   "name": "python3"
  },
  "language_info": {
   "name": "python"
  }
 },
 "nbformat": 4,
 "nbformat_minor": 0
}
