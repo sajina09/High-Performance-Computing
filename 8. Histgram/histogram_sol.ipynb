{
  "cells": [
    {
      "cell_type": "markdown",
      "source": [
        "# **Module 7 Lab Reduction**"
      ],
      "metadata": {
        "id": "ACbcE3YKG-bM"
      }
    },
    {
      "cell_type": "code",
      "execution_count": null,
      "metadata": {
        "id": "lxyTNLOGp1IY",
        "colab": {
          "base_uri": "https://localhost:8080/"
        },
        "outputId": "73500a12-9e35-4934-8062-f3037aad5f8f"
      },
      "outputs": [
        {
          "output_type": "stream",
          "name": "stdout",
          "text": [
            "Mounted at /content/drive\n"
          ]
        }
      ],
      "source": [
        "from google.colab import drive\n",
        "drive.mount('/content/drive')\n"
      ]
    },
    {
      "cell_type": "markdown",
      "metadata": {
        "id": "hY08JQdIBVgL"
      },
      "source": [
        "Environment Setup:  Verify the environment"
      ]
    },
    {
      "cell_type": "code",
      "execution_count": null,
      "metadata": {
        "id": "36dzfscyIp6B"
      },
      "outputs": [],
      "source": [
        "!nvidia-smi\n",
        "!nvcc --version"
      ]
    },
    {
      "cell_type": "markdown",
      "source": [
        "You must change directory to the path where the code for this lab is uploaded."
      ],
      "metadata": {
        "id": "S0FmX0b4EdYZ"
      }
    },
    {
      "cell_type": "code",
      "source": [
        "%cd drive/MyDrive/SP25-HPC/Mod7-Reduction_sol/"
      ],
      "metadata": {
        "id": "guSU25zLEtyF",
        "colab": {
          "base_uri": "https://localhost:8080/"
        },
        "outputId": "a6b394ef-1eed-48be-83e6-a9f7f81b8293"
      },
      "execution_count": null,
      "outputs": [
        {
          "output_type": "stream",
          "name": "stdout",
          "text": [
            "/content/drive/MyDrive/SP25-HPC/Mod7-Reduction_sol\n"
          ]
        }
      ]
    },
    {
      "cell_type": "markdown",
      "metadata": {
        "id": "93sg5wY5YhSv"
      },
      "source": [
        "Compile the CUDA Program\n",
        "Compile the program using nvcc (the NVIDIA CUDA compiler):"
      ]
    },
    {
      "cell_type": "code",
      "execution_count": 3,
      "metadata": {
        "id": "m3AogjiBYhSv"
      },
      "outputs": [],
      "source": [
        "!rm -rf *.o\n",
        "!nvcc -arch=sm_75 -o reduce main.cu"
      ]
    },
    {
      "cell_type": "markdown",
      "metadata": {
        "id": "vHc1-3WmYhSv"
      },
      "source": [
        "Run the CUDA Program\n",
        "Run the executable to process the image:\n",
        "You should see an output message indicating that the blurred image was saved as output.png."
      ]
    },
    {
      "cell_type": "code",
      "execution_count": 13,
      "metadata": {
        "id": "Dpk8gpUYYhSw",
        "colab": {
          "base_uri": "https://localhost:8080/"
        },
        "outputId": "a25860c1-e17b-41c8-e7ae-35f3f28ef752"
      },
      "outputs": [
        {
          "output_type": "stream",
          "name": "stdout",
          "text": [
            "\n",
            "Setting up the problem...38.102917 s\n",
            "    Input size = 1783793664\n",
            "    Number of bins = 8192\n",
            "Allocating device variables...0.182162 s\n",
            "Copying data from host to device...1.526818 s\n",
            "Launching kernel...0.567459 s\n",
            "Copying data from device to host...0.000035 s\n",
            "Verifying results...TEST PASSED\n",
            "\n"
          ]
        }
      ],
      "source": [
        "!./reduce 500000000000 8192"
      ]
    },
    {
      "cell_type": "code",
      "source": [],
      "metadata": {
        "id": "u4pVoKgmm_Rc"
      },
      "execution_count": null,
      "outputs": []
    }
  ],
  "metadata": {
    "accelerator": "GPU",
    "colab": {
      "gpuType": "T4",
      "provenance": []
    },
    "kernelspec": {
      "display_name": "Python 3",
      "name": "python3"
    },
    "language_info": {
      "name": "python"
    }
  },
  "nbformat": 4,
  "nbformat_minor": 0
}